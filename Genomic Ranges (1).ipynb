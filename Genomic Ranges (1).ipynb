{
 "cells": [
  {
   "cell_type": "code",
   "execution_count": 1,
   "id": "5315f328",
   "metadata": {},
   "outputs": [],
   "source": [
    "import pyranges as pr"
   ]
  },
  {
   "cell_type": "code",
   "execution_count": 47,
   "id": "600c45bb",
   "metadata": {},
   "outputs": [
    {
     "name": "stdout",
     "output_type": "stream",
     "text": [
      "Empty PyRanges\n"
     ]
    }
   ],
   "source": [
    "import os\n",
    "path = os.path.abspath(\"chr_all.bed\")\n",
    "chr_all = pr.read_bed(path, False, nrows=1258)\n",
    "#print(chr_all)\n",
    "path = os.path.abspath(\"chr_published.bed\")\n",
    "chr_published = pr.read_bed(path, False, nrows=125)\n",
    "#print(chr_published)\n",
    "print(chr_all.intersect(chr_published))"
   ]
  },
  {
   "cell_type": "code",
   "execution_count": null,
   "id": "6c0ff51e",
   "metadata": {},
   "outputs": [],
   "source": []
  }
 ],
 "metadata": {
  "kernelspec": {
   "display_name": "Python 3 (ipykernel)",
   "language": "python",
   "name": "python3"
  },
  "language_info": {
   "codemirror_mode": {
    "name": "ipython",
    "version": 3
   },
   "file_extension": ".py",
   "mimetype": "text/x-python",
   "name": "python",
   "nbconvert_exporter": "python",
   "pygments_lexer": "ipython3",
   "version": "3.9.7"
  }
 },
 "nbformat": 4,
 "nbformat_minor": 5
}
